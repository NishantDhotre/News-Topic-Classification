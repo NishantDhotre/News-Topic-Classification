{
 "cells": [
  {
   "cell_type": "code",
   "execution_count": 55,
   "metadata": {},
   "outputs": [],
   "source": [
    "# Data Handling\n",
    "import pandas as pd\n",
    "import numpy as np\n",
    "from sklearn.model_selection import train_test_split\n",
    "\n",
    "# Text Processing\n",
    "import re\n",
    "from nltk.corpus import stopwords\n",
    "from nltk.tokenize import word_tokenize\n",
    "from sklearn.feature_extraction.text import CountVectorizer\n",
    "\n",
    "# PyTorch for Neural Networks\n",
    "import torch\n",
    "import torch.nn as nn\n",
    "import torch.optim as optim\n",
    "from torch.utils.data import DataLoader\n",
    "\n",
    "# Gensim for Word Vectors\n",
    "import os\n",
    "import gensim.downloader as api\n",
    "from gensim.models import KeyedVectors\n",
    "\n",
    "\n",
    "# Evaluation Metrics\n",
    "from sklearn.metrics import accuracy_score, f1_score, confusion_matrix, classification_report\n",
    "\n",
    "# Visualization\n",
    "import matplotlib.pyplot as plt\n",
    "import seaborn as sns\n"
   ]
  },
  {
   "cell_type": "code",
   "execution_count": 56,
   "metadata": {},
   "outputs": [],
   "source": [
    "# Read the CSV file into a DataFrame\n",
    "def read_csv(path):\n",
    "    df = pd.read_csv(path)\n",
    "    return df\n"
   ]
  },
  {
   "cell_type": "markdown",
   "metadata": {},
   "source": [
    "###  Data Preprocess"
   ]
  },
  {
   "cell_type": "code",
   "execution_count": 57,
   "metadata": {},
   "outputs": [],
   "source": [
    "def preprocess(text):\n",
    "    # Convert text to lowercase\n",
    "    text = text.lower()\n",
    "\n",
    "    # Replace '\\\\' with a space\n",
    "    text = re.sub(r'\\\\', ' ', text)\n",
    "\n",
    "    # Remove unnecessary symbols, keep only words and spaces\n",
    "    text = re.sub(r'[^a-zA-Z0-9\\s]', '', text)\n",
    "\n",
    "    # Remove stop words\n",
    "    stop_words = set(stopwords.words('english'))\n",
    "    text = ' '.join([word for word in text.split() if word not in stop_words])\n",
    "\n",
    "    return text\n"
   ]
  },
  {
   "cell_type": "code",
   "execution_count": 58,
   "metadata": {},
   "outputs": [],
   "source": [
    "\n",
    "def create_vocabulary(df, text_column, min_df=5, max_df=0.8):\n",
    "    # Create the vocabulary\n",
    "    vectorizer = CountVectorizer(min_df=min_df, max_df=max_df)\n",
    "    X = vectorizer.fit_transform(df[text_column])\n",
    "    vocabulary = vectorizer.get_feature_names_out()\n",
    "\n",
    "    return vocabulary \n"
   ]
  },
  {
   "cell_type": "markdown",
   "metadata": {},
   "source": [
    "##   A) Word2Vec Model:\n"
   ]
  },
  {
   "cell_type": "code",
   "execution_count": 59,
   "metadata": {},
   "outputs": [
    {
     "name": "stdout",
     "output_type": "stream",
     "text": [
      "Loading model from disk...\n",
      "Model is ready to use.\n"
     ]
    }
   ],
   "source": [
    "model_path = './model/word2vec-google-news-300.model'\n",
    "\n",
    "# Check if the model file exists\n",
    "if not os.path.exists(model_path):\n",
    "    # If the model does not exist, download it\n",
    "    print(\"Downloading model...\")\n",
    "    model = api.load('word2vec-google-news-300')\n",
    "    \n",
    "    # Create the directory if it does not exist\n",
    "    os.makedirs(os.path.dirname(model_path), exist_ok=True)\n",
    "    \n",
    "    # Save the model to your local disk\n",
    "    print(\"Saving model to disk...\")\n",
    "    model.save(model_path)\n",
    "\n",
    "# Load the model from disk\n",
    "print(\"Loading model from disk...\")\n",
    "word2vec_model = KeyedVectors.load(model_path, mmap='r')\n",
    "\n",
    "print(\"Model is ready to use.\")\n"
   ]
  },
  {
   "cell_type": "code",
   "execution_count": 60,
   "metadata": {},
   "outputs": [],
   "source": [
    "def get_embeddings(text, model, vocabulary):\n",
    "    # Tokenize the text. This is a simple split on spaces; consider using a better tokenizer.\n",
    "    tokens = text.split()\n",
    "\n",
    "    # Initialize an empty list to store embeddings\n",
    "    embeddings = []\n",
    "\n",
    "    # Determine the dimensionality of the embeddings\n",
    "    embedding_dim = model.vector_size\n",
    "\n",
    "    # For each token, get its embedding if it's in the model's vocabulary\n",
    "    for token in tokens:\n",
    "        if token in model.key_to_index and token in vocabulary:\n",
    "            embedding = model[token]\n",
    "        else:\n",
    "            # Append a zero vector for tokens not in the model's vocabulary\n",
    "            embedding = [0] * embedding_dim\n",
    "        embeddings.append(embedding)\n",
    "    \n",
    "    return embeddings\n"
   ]
  },
  {
   "cell_type": "code",
   "execution_count": 61,
   "metadata": {},
   "outputs": [],
   "source": [
    "\n",
    "def average_embeddings(text, model, vocabulary):\n",
    "    embeddings = get_embeddings(text, model, vocabulary)  # Assuming get_embeddings is defined as before\n",
    "    if embeddings:\n",
    "        # Convert embeddings list to a NumPy array for vectorized operations\n",
    "        embeddings_array = np.array(embeddings)\n",
    "        \n",
    "        # Compute the average embedding\n",
    "        average_embedding = np.mean(embeddings_array, axis=0)\n",
    "        return average_embedding\n",
    "    else:\n",
    "        # Return a zero vector if no words in the model's vocabulary\n",
    "        return np.zeros(model.vector_size)"
   ]
  },
  {
   "cell_type": "markdown",
   "metadata": {},
   "source": [
    "###  NNLayers"
   ]
  },
  {
   "cell_type": "code",
   "execution_count": 62,
   "metadata": {},
   "outputs": [],
   "source": [
    "class SimpleNN(nn.Module):\n",
    "    def __init__(self, input_feature_dim, output_classes):\n",
    "        super(SimpleNN, self).__init__()\n",
    "        self.fc1 = nn.Linear(input_feature_dim, 128)  # First fully connected layer\n",
    "        self.fc2 = nn.Linear(128, output_classes)     # Output layer\n",
    "    \n",
    "    def forward(self, x):\n",
    "        x = torch.relu(self.fc1(x))  # Apply ReLU to the output of the first layer\n",
    "        x = self.fc2(x)  # No activation needed here; will use nn.CrossEntropyLoss\n",
    "        return x\n",
    " "
   ]
  },
  {
   "cell_type": "markdown",
   "metadata": {},
   "source": [
    "### Training"
   ]
  },
  {
   "cell_type": "code",
   "execution_count": 63,
   "metadata": {},
   "outputs": [],
   "source": [
    "def train_model(model, X, y, batch_size=32, epochs=10, learning_rate=0.001):\n",
    "    # Set the loss function\n",
    "    loss_function = nn.CrossEntropyLoss()\n",
    "\n",
    "    # Set the optimizer\n",
    "    optimizer = optim.Adam(model.parameters(), lr=learning_rate)\n",
    "    \n",
    "    # Calculate total number of batches\n",
    "    num_batches = int(np.ceil(X.size(0) / batch_size))\n",
    "\n",
    "    # Training loop\n",
    "    for epoch in range(epochs):\n",
    "        total_loss = 0\n",
    "\n",
    "        # Shuffle the data at the beginning of each epoch\n",
    "        permutation = torch.randperm(X.size(0))\n",
    "\n",
    "        for i in range(num_batches):\n",
    "            # Calculate batch start and end indices\n",
    "            start_idx = i * batch_size\n",
    "            end_idx = min((i + 1) * batch_size, X.size(0))\n",
    "\n",
    "            # Create batches\n",
    "            indices = permutation[start_idx:end_idx]\n",
    "            batch_X, batch_y = X[indices], y[indices]\n",
    "\n",
    "            # Zero the parameter gradients\n",
    "            optimizer.zero_grad()\n",
    "\n",
    "            # Forward pass\n",
    "            outputs = model(batch_X)\n",
    "\n",
    "            # Calculate loss\n",
    "            loss = loss_function(outputs, batch_y)\n",
    "\n",
    "            # Backward pass and optimize\n",
    "            loss.backward()\n",
    "            optimizer.step()\n",
    "\n",
    "            total_loss += loss.item()\n",
    "\n",
    "        # Print average loss for the epoch\n",
    "        print(f\"Epoch {epoch+1}, Average Loss: {total_loss / num_batches}\")\n",
    "    \n",
    "    return model"
   ]
  },
  {
   "cell_type": "markdown",
   "metadata": {},
   "source": [
    "###  Testing and Evaluating:\n"
   ]
  },
  {
   "cell_type": "code",
   "execution_count": 64,
   "metadata": {},
   "outputs": [],
   "source": [
    "def do_eval(model, X_test, y_test):\n",
    "    \n",
    "    # Ensure the model is in evaluation mode\n",
    "    model.eval()\n",
    "\n",
    "    predictions = []\n",
    "\n",
    "    # No need to track gradients for validation\n",
    "    with torch.no_grad():\n",
    "        for input in X_test:\n",
    "            # Add an extra dimension to input to represent a batch size of 1\n",
    "            input_batch = input.unsqueeze(0)\n",
    "\n",
    "            # Make predictions\n",
    "            outputs = model(input_batch)\n",
    "\n",
    "            # Convert outputs to predictions by applying argmax\n",
    "            pred = torch.argmax(outputs, dim=1).item()\n",
    "            predictions.append(pred)\n",
    "\n",
    "\n",
    " \n",
    "    \n",
    "        # Calculate metrics\n",
    "        accuracy = accuracy_score(y_test, predictions)\n",
    "        macro_f1 = f1_score(y_test, predictions, average='macro')\n",
    "        \n",
    "        print(f'Accuracy: {accuracy:.4f}, Macro F1 Score: {macro_f1:.4f}')\n",
    "        \n",
    "        # Plot confusion matrix\n",
    "        cm = confusion_matrix(y_test, predictions)\n",
    "        plt.figure(figsize=(10, 7))\n",
    "        sns.heatmap(cm, annot=True, fmt='g', cmap='Blues')\n",
    "        plt.xlabel('Predicted labels')\n",
    "        plt.ylabel('True labels')\n",
    "        plt.show()\n",
    "    \n",
    "\n",
    "    return predictions\n"
   ]
  },
  {
   "cell_type": "code",
   "execution_count": 65,
   "metadata": {},
   "outputs": [],
   "source": [
    "df =  read_csv('../data/train.csv')"
   ]
  },
  {
   "cell_type": "code",
   "execution_count": 66,
   "metadata": {},
   "outputs": [],
   "source": [
    "df['processed'] = df['text'].apply(preprocess)\n"
   ]
  },
  {
   "cell_type": "code",
   "execution_count": 67,
   "metadata": {},
   "outputs": [],
   "source": [
    "vocabulary = create_vocabulary(df, 'processed')\n"
   ]
  },
  {
   "cell_type": "code",
   "execution_count": 68,
   "metadata": {},
   "outputs": [],
   "source": [
    "train_df, val_df = train_test_split(df, test_size=0.2, random_state=42)\n"
   ]
  },
  {
   "cell_type": "code",
   "execution_count": 69,
   "metadata": {},
   "outputs": [],
   "source": [
    "def give_data(df, word2vec_model, vocabulary):\n",
    "    X = np.array([average_embeddings(text, word2vec_model, vocabulary) for text in df['processed']])\n",
    "    y = df['label'].to_numpy()\n",
    "    X_tensor = torch.tensor(X, dtype=torch.float32)\n",
    "    y_tensor = torch.tensor(y, dtype=torch.long)\n",
    "    # y_tensor = torch.tensor(y, dtype=torch.long)\n",
    "    return X_tensor, y_tensor"
   ]
  },
  {
   "cell_type": "code",
   "execution_count": 70,
   "metadata": {},
   "outputs": [],
   "source": [
    "X_train, y_train = give_data(train_df, word2vec_model, vocabulary)"
   ]
  },
  {
   "cell_type": "code",
   "execution_count": 71,
   "metadata": {},
   "outputs": [],
   "source": [
    "X_val, y_val = give_data(val_df, word2vec_model, vocabulary)"
   ]
  },
  {
   "cell_type": "code",
   "execution_count": 72,
   "metadata": {},
   "outputs": [],
   "source": [
    "nn_model = SimpleNN(input_feature_dim=300, output_classes= 4)"
   ]
  },
  {
   "cell_type": "code",
   "execution_count": 73,
   "metadata": {},
   "outputs": [
    {
     "name": "stdout",
     "output_type": "stream",
     "text": [
      "Epoch 1, Average Loss: 1.2699471950531005\n",
      "Epoch 2, Average Loss: 0.8635815036296844\n",
      "Epoch 3, Average Loss: 0.5952168053388596\n",
      "Epoch 4, Average Loss: 0.4986568802595139\n",
      "Epoch 5, Average Loss: 0.4548050975799561\n",
      "Epoch 6, Average Loss: 0.4292993858456612\n",
      "Epoch 7, Average Loss: 0.40991211324930193\n",
      "Epoch 8, Average Loss: 0.3949777328968048\n",
      "Epoch 9, Average Loss: 0.3849732577800751\n",
      "Epoch 10, Average Loss: 0.37301293909549715\n",
      "Epoch 11, Average Loss: 0.3590143766999245\n",
      "Epoch 12, Average Loss: 0.35258748739957807\n",
      "Epoch 13, Average Loss: 0.34326022684574126\n",
      "Epoch 14, Average Loss: 0.33535695254802705\n",
      "Epoch 15, Average Loss: 0.32811534389853475\n",
      "Epoch 16, Average Loss: 0.31801969349384307\n",
      "Epoch 17, Average Loss: 0.3132400706410408\n",
      "Epoch 18, Average Loss: 0.30437002450227735\n",
      "Epoch 19, Average Loss: 0.29811708495020867\n",
      "Epoch 20, Average Loss: 0.2926612874865532\n"
     ]
    }
   ],
   "source": [
    "nn_model = train_model(nn_model, X_train, y_train,epochs=20)"
   ]
  },
  {
   "cell_type": "code",
   "execution_count": 74,
   "metadata": {},
   "outputs": [
    {
     "name": "stdout",
     "output_type": "stream",
     "text": [
      "Accuracy: 0.8575, Macro F1 Score: 0.8582\n"
     ]
    },
    {
     "data": {
      "image/png": "[encoded data removed]",
      "text/plain": [
       "<Figure size 1000x700 with 2 Axes>"
      ]
     },
     "metadata": {},
     "output_type": "display_data"
    }
   ],
   "source": [
    "predictions = do_eval(nn_model, X_val, y_val)"
   ]
  },
  {
   "cell_type": "code",
   "execution_count": 75,
   "metadata": {},
   "outputs": [
    {
     "name": "stdout",
     "output_type": "stream",
     "text": [
      "              precision    recall  f1-score   support\n",
      "\n",
      "           0       0.93      0.90      0.92       104\n",
      "           1       0.92      0.88      0.90        95\n",
      "           2       0.75      0.85      0.80        88\n",
      "           3       0.83      0.80      0.81       113\n",
      "\n",
      "    accuracy                           0.86       400\n",
      "   macro avg       0.86      0.86      0.86       400\n",
      "weighted avg       0.86      0.86      0.86       400\n",
      "\n"
     ]
    }
   ],
   "source": [
    "print(classification_report(y_val, predictions))\n"
   ]
  },
  {
   "cell_type": "markdown",
   "metadata": {},
   "source": [
    "### doing prediction on Test set"
   ]
  },
  {
   "cell_type": "code",
   "execution_count": 76,
   "metadata": {},
   "outputs": [],
   "source": [
    "df_test = read_csv('../data/test.csv')"
   ]
  },
  {
   "cell_type": "code",
   "execution_count": 77,
   "metadata": {},
   "outputs": [],
   "source": [
    "df_test['processed'] = df_test['text'].apply(preprocess)\n"
   ]
  },
  {
   "cell_type": "code",
   "execution_count": 78,
   "metadata": {},
   "outputs": [],
   "source": [
    "X_test, y_test = give_data(df_test, word2vec_model, vocabulary)\n"
   ]
  },
  {
   "cell_type": "code",
   "execution_count": 79,
   "metadata": {},
   "outputs": [
    {
     "name": "stdout",
     "output_type": "stream",
     "text": [
      "Accuracy: 0.8360, Macro F1 Score: 0.8365\n"
     ]
    },
    {
     "data": {
      "image/png": "[encoded data removed]",
      "text/plain": [
       "<Figure size 1000x700 with 2 Axes>"
      ]
     },
     "metadata": {},
     "output_type": "display_data"
    },
    {
     "name": "stdout",
     "output_type": "stream",
     "text": [
      "              precision    recall  f1-score   support\n",
      "\n",
      "           0       0.81      0.82      0.82       125\n",
      "           1       0.92      0.88      0.90       125\n",
      "           2       0.81      0.82      0.82       125\n",
      "           3       0.80      0.82      0.81       125\n",
      "\n",
      "    accuracy                           0.84       500\n",
      "   macro avg       0.84      0.84      0.84       500\n",
      "weighted avg       0.84      0.84      0.84       500\n",
      "\n"
     ]
    }
   ],
   "source": [
    "NN_predictions = do_eval(nn_model, X_test, y_test)\n",
    "print(classification_report(y_test, NN_predictions))"
   ]
  },
  {
   "cell_type": "code",
   "execution_count": 80,
   "metadata": {},
   "outputs": [],
   "source": [
    "def do_saving(df, predictions, name):\n",
    "    # Append the predictions to your test dataframe\n",
    "    df['preds'] = predictions\n",
    "\n",
    "    # Save to CSV\n",
    "    df[['index','text','label','preds']].to_csv(f'./output/{name}', index=False)"
   ]
  },
  {
   "cell_type": "code",
   "execution_count": 81,
   "metadata": {},
   "outputs": [],
   "source": [
    "do_saving(df_test, predictions = NN_predictions, name=\"w2v_test.csv\")"
   ]
  },
  {
   "cell_type": "markdown",
   "metadata": {},
   "source": [
    "##  B) Recurrent Neural Networks (RNN)"
   ]
  },
  {
   "cell_type": "markdown",
   "metadata": {},
   "source": [
    "###  Data Batching"
   ]
  },
  {
   "cell_type": "code",
   "execution_count": 82,
   "metadata": {},
   "outputs": [],
   "source": [
    "\n",
    "class DataFrameDataset(torch.utils.data.Dataset):\n",
    "    def __init__(self, dataframe, tokenizer, max_len):\n",
    "        self.dataframe = dataframe\n",
    "        self.tokenizer = tokenizer\n",
    "        self.max_len = max_len\n",
    "\n",
    "    def __len__(self):\n",
    "        return len(self.dataframe)\n",
    "\n",
    "    def __getitem__(self, idx):\n",
    "        text = self.dataframe.iloc[idx]['processed']\n",
    "        label = self.dataframe.iloc[idx]['label']\n",
    "        tokens = self.tokenizer(text, self.max_len)  # Ensure this returns a flat list of token IDs\n",
    "        \n",
    "        # If tokens are more than max_len, truncate them\n",
    "        if len(tokens) > self.max_len:\n",
    "            tokens = tokens[:self.max_len]\n",
    "        \n",
    "        # If tokens are less than max_len, pad them\n",
    "        padded_tokens = tokens + [0] * (self.max_len - len(tokens))\n",
    "        \n",
    "        return torch.tensor(padded_tokens, dtype=torch.long), torch.tensor(int(label), dtype=torch.long)\n"
   ]
  },
  {
   "cell_type": "code",
   "execution_count": 83,
   "metadata": {},
   "outputs": [],
   "source": [
    "def create_word_index(vocabulary):\n",
    "    word_index = {word: idx + 1 for idx, word in enumerate(vocabulary)}  # Start indexing from 1\n",
    "    return word_index\n",
    "\n",
    "word_index = create_word_index(vocabulary)\n"
   ]
  },
  {
   "cell_type": "code",
   "execution_count": 84,
   "metadata": {},
   "outputs": [],
   "source": [
    "\n",
    "def simple_tokenizer(text, max_len):\n",
    "    # Tokenize the text\n",
    "    tokens = word_tokenize(text)\n",
    "    \n",
    "    # Convert tokens to their indices in word_index\n",
    "    token_ids = [word_index.get(token, 0) for token in tokens]  # Using 0 for unknown words\n",
    "    \n",
    "    # Truncate or pad the token_ids list to the max_len\n",
    "    if len(token_ids) > max_len:\n",
    "        token_ids = token_ids[:max_len]  # Truncate\n",
    "    else:\n",
    "        token_ids += [0] * (max_len - len(token_ids))  # Pad with integer zeroes\n",
    "    \n",
    "    return token_ids\n"
   ]
  },
  {
   "cell_type": "code",
   "execution_count": 85,
   "metadata": {},
   "outputs": [],
   "source": [
    "# Example usage:\n",
    "max_len = 100  # Define the maximum sequence length\n",
    "batch_size = 32  # Define batch size\n",
    "\n",
    "\n",
    "train_dataset = DataFrameDataset(train_df, tokenizer=simple_tokenizer, max_len=max_len)\n",
    "train_data_loader = DataLoader(train_dataset, batch_size=batch_size, shuffle=True)\n"
   ]
  },
  {
   "cell_type": "code",
   "execution_count": 86,
   "metadata": {},
   "outputs": [],
   "source": [
    "val_dataset = DataFrameDataset(val_df, tokenizer=simple_tokenizer, max_len=max_len)\n",
    "val_data_loader = DataLoader(val_dataset, batch_size=batch_size, shuffle=True)\n"
   ]
  },
  {
   "cell_type": "code",
   "execution_count": 87,
   "metadata": {},
   "outputs": [],
   "source": [
    "test_dataset = DataFrameDataset(df_test, tokenizer=simple_tokenizer, max_len=max_len)\n",
    "test_data_loader = DataLoader(test_dataset, batch_size=batch_size, shuffle=True)\n"
   ]
  },
  {
   "cell_type": "markdown",
   "metadata": {},
   "source": [
    "###  RNNModel"
   ]
  },
  {
   "cell_type": "markdown",
   "metadata": {},
   "source": [
    "#### VanillaRNN"
   ]
  },
  {
   "cell_type": "code",
   "execution_count": 88,
   "metadata": {},
   "outputs": [],
   "source": [
    "class VanillaRNN(nn.Module):\n",
    "    def __init__(self, vocab_size, embedding_dim, hidden_dim, output_dim, bidirectional, pretrained_embeddings):\n",
    "        super(VanillaRNN, self).__init__()\n",
    "        \n",
    "        self.embedding = nn.Embedding(vocab_size, embedding_dim)\n",
    "        self.embedding.weight = nn.Parameter(pretrained_embeddings, requires_grad=False)\n",
    "        \n",
    "        self.rnn = nn.RNN(embedding_dim, hidden_dim, bidirectional=bidirectional, batch_first=True)\n",
    "        self.fc = nn.Linear(hidden_dim * 2 if bidirectional else hidden_dim, output_dim)\n",
    "        self.dropout = nn.Dropout(0.5)\n",
    "        \n",
    "    def forward(self, text):\n",
    "        # text dim: [batch size, sent_length]\n",
    "        embedded = self.dropout(self.embedding(text))\n",
    "        # embedded dim: [batch size, sent_length, emb_dim]\n",
    "        \n",
    "        output, _ = self.rnn(embedded)\n",
    "        # output dim: [batch size, sent_length, hidden_dim * num_directions]\n",
    "        \n",
    "        # Get the average of the RNN outputs\n",
    "        avg_pool = torch.mean(output, dim=1)\n",
    "        # avg_pool dim: [batch size, hidden_dim * num_directions]\n",
    "        \n",
    "        return self.fc(avg_pool)\n"
   ]
  },
  {
   "cell_type": "markdown",
   "metadata": {},
   "source": [
    "#### LSTM"
   ]
  },
  {
   "cell_type": "code",
   "execution_count": 89,
   "metadata": {},
   "outputs": [],
   "source": [
    "class LSTMModel(nn.Module):\n",
    "    def __init__(self, vocab_size, embedding_dim, hidden_dim, output_dim, bidirectional, pretrained_embeddings):\n",
    "        super(LSTMModel, self).__init__()\n",
    "        \n",
    "        self.embedding = nn.Embedding(vocab_size, embedding_dim)\n",
    "        self.embedding.weight = nn.Parameter(pretrained_embeddings, requires_grad=False)\n",
    "        \n",
    "        self.lstm = nn.LSTM(embedding_dim, hidden_dim, bidirectional=bidirectional, batch_first=True)\n",
    "        self.fc = nn.Linear(hidden_dim * 2 if bidirectional else hidden_dim, output_dim)\n",
    "        self.dropout = nn.Dropout(0.5)\n",
    "        \n",
    "    def forward(self, text):\n",
    "        # text dim: [batch size, sent_length]\n",
    "        embedded = self.dropout(self.embedding(text))\n",
    "        # embedded dim: [batch size, sent_length, emb_dim]\n",
    "        \n",
    "        output, (hidden, cell) = self.lstm(embedded)\n",
    "        # output dim: [batch size, sent_length, hidden_dim * num_directions]\n",
    "        \n",
    "        # Get the average of the LSTM outputs\n",
    "        avg_pool = torch.mean(output, dim=1)\n",
    "        # avg_pool dim: [batch size, hidden_dim * num_directions]\n",
    "        \n",
    "        return self.fc(avg_pool)\n"
   ]
  },
  {
   "cell_type": "code",
   "execution_count": 90,
   "metadata": {},
   "outputs": [],
   "source": [
    "\n",
    "\n",
    "def train_model(model, train_loader, epochs=10, lr=0.001):\n",
    "    # Move model to the device (CPU or GPU)\n",
    "    device = torch.device(\"cuda\" if torch.cuda.is_available() else \"cpu\")\n",
    "    model = model.to(device)\n",
    "    \n",
    "    # Loss function and Optimizer\n",
    "    criterion = nn.CrossEntropyLoss()\n",
    "    optimizer = optim.Adam(model.parameters(), lr=lr)\n",
    "    \n",
    "    for epoch in range(epochs):\n",
    "        model.train()  # Set model to training mode\n",
    "        total_loss = 0.0\n",
    "        \n",
    "        for texts, labels in train_loader:\n",
    "            texts, labels = texts.to(device), labels.to(device)\n",
    "            \n",
    "            optimizer.zero_grad()  # Zero the gradients\n",
    "            \n",
    "            predictions = model(texts)  # Forward pass\n",
    "            loss = criterion(predictions, labels)  # Compute loss\n",
    "            loss.backward()  # Backward pass\n",
    "            optimizer.step()  # Optimize\n",
    "            \n",
    "            total_loss += loss.item()  # Accumulate loss\n",
    "\n",
    "        avg_train_loss = total_loss / len(train_loader)  # Calculate average loss\n",
    "        \n",
    "        print(f'Epoch {epoch+1}: Train Loss = {avg_train_loss:.4f}')\n",
    "            \n",
    "    print('Training complete.')\n"
   ]
  },
  {
   "cell_type": "code",
   "execution_count": 101,
   "metadata": {},
   "outputs": [],
   "source": [
    "\n",
    "def do_prediction(model, valid_loader, name):\n",
    "    device = torch.device(\"cuda\" if torch.cuda.is_available() else \"cpu\")\n",
    "    model.to(device)\n",
    "    model.eval()\n",
    "    \n",
    "    # No need for loss calculation if you're only doing predictions\n",
    "    all_predicted_labels = []\n",
    "    all_true_labels = []\n",
    "\n",
    "    with torch.no_grad():\n",
    "        for texts, labels in valid_loader:\n",
    "            texts, labels = texts.to(device), labels.to(device)\n",
    "            \n",
    "            predictions = model(texts)\n",
    "            _, predicted_labels = torch.max(predictions, 1)\n",
    "            \n",
    "            all_predicted_labels.extend(predicted_labels.cpu().numpy())\n",
    "            all_true_labels.extend(labels.cpu().numpy())\n",
    "    \n",
    "    # Calculate metrics\n",
    "    accuracy = accuracy_score(all_true_labels, all_predicted_labels)\n",
    "    macro_f1 = f1_score(all_true_labels, all_predicted_labels, average='macro')\n",
    "    \n",
    "    print(f'Accuracy: {accuracy:.4f}, Macro F1 Score: {macro_f1:.4f}')\n",
    "    \n",
    "    # Plot confusion matrix\n",
    "    cm = confusion_matrix(all_true_labels, all_predicted_labels)\n",
    "    plt.figure(figsize=(10, 7))\n",
    "    sns.heatmap(cm, annot=True, fmt='g', cmap='Blues')\n",
    "    plt.xlabel('Predicted labels')\n",
    "    plt.ylabel('True labels')\n",
    "    plt.title(name)\n",
    "    plt.show()\n",
    "    \n",
    "    return all_predicted_labels\n"
   ]
  },
  {
   "cell_type": "code",
   "execution_count": 92,
   "metadata": {},
   "outputs": [],
   "source": [
    "embedding_dim = 300 # Assuming you are using 300-dimensional Word2Vec embeddings\n",
    "\n",
    "# Initialize the embedding matrix with zeros, size + 1 for the zero padding\n",
    "vocab_size = len(word_index) + 1  # word_index starts from 1, and +1 for padding\n",
    "embedding_matrix = np.zeros((vocab_size, embedding_dim))"
   ]
  },
  {
   "cell_type": "code",
   "execution_count": 93,
   "metadata": {},
   "outputs": [],
   "source": [
    "# Initialize the matrix with zeros\n",
    "for word, i in word_index.items():\n",
    "    # Check if the word is in the word2vec model\n",
    "    if word in word2vec_model.key_to_index:\n",
    "        # Retrieve the corresponding vector\n",
    "        embedding_vector = word2vec_model[word]\n",
    "        # Assign it to the corresponding row in the matrix\n",
    "        embedding_matrix[i] = embedding_vector\n",
    "    else:\n",
    "        # Optionally, initialize words not found in Word2Vec with random vectors\n",
    "        embedding_matrix[i] = np.random.normal(scale=0.6, size=(embedding_dim, ))"
   ]
  },
  {
   "cell_type": "code",
   "execution_count": 94,
   "metadata": {},
   "outputs": [],
   "source": [
    "\n",
    "# Convert the embedding matrix to a tensor\n",
    "pretrained_embeddings = torch.FloatTensor(embedding_matrix)"
   ]
  },
  {
   "cell_type": "code",
   "execution_count": 95,
   "metadata": {},
   "outputs": [],
   "source": [
    "# Initialize your models with the appropriate parameters\n",
    "hidden_dim = 256 # Size of RNN/LSTM hidden layer\n",
    "output_dim = 4 # Number of output classes\n",
    "bidirectional = True # Using bidirectional RNN/LSTM\n",
    "lstm_model = LSTMModel(vocab_size, embedding_dim, hidden_dim, output_dim, bidirectional, pretrained_embeddings)\n"
   ]
  },
  {
   "cell_type": "code",
   "execution_count": 96,
   "metadata": {},
   "outputs": [],
   "source": [
    "# Initialize your models with the appropriate parameters\n",
    "hidden_dim = 256 # Size of RNN/LSTM hidden layer\n",
    "output_dim = 4 # Number of output classes\n",
    "bidirectional = True # Using bidirectional RNN/LSTM\n",
    "rnn_model = VanillaRNN(vocab_size, embedding_dim, hidden_dim, output_dim, bidirectional, pretrained_embeddings)\n"
   ]
  },
  {
   "cell_type": "code",
   "execution_count": 97,
   "metadata": {},
   "outputs": [
    {
     "name": "stdout",
     "output_type": "stream",
     "text": [
      "Epoch 1: Train Loss = 1.1811\n",
      "Epoch 2: Train Loss = 0.8896\n",
      "Epoch 3: Train Loss = 0.7568\n",
      "Epoch 4: Train Loss = 0.7647\n",
      "Epoch 5: Train Loss = 0.6929\n",
      "Epoch 6: Train Loss = 0.6472\n",
      "Epoch 7: Train Loss = 0.5774\n",
      "Epoch 8: Train Loss = 0.5518\n",
      "Epoch 9: Train Loss = 0.6274\n",
      "Epoch 10: Train Loss = 0.5760\n",
      "Training complete.\n"
     ]
    }
   ],
   "source": [
    "\n",
    "# Train LSTM Model\n",
    "train_model(lstm_model, train_data_loader, epochs=10, lr=0.001)\n"
   ]
  },
  {
   "cell_type": "code",
   "execution_count": 98,
   "metadata": {},
   "outputs": [
    {
     "name": "stdout",
     "output_type": "stream",
     "text": [
      "Epoch 1: Train Loss = 1.1883\n",
      "Epoch 2: Train Loss = 1.0775\n",
      "Epoch 3: Train Loss = 0.8740\n",
      "Epoch 4: Train Loss = 0.7992\n",
      "Epoch 5: Train Loss = 0.6928\n",
      "Epoch 6: Train Loss = 0.5877\n",
      "Epoch 7: Train Loss = 0.5996\n",
      "Epoch 8: Train Loss = 0.5431\n",
      "Epoch 9: Train Loss = 0.5452\n",
      "Epoch 10: Train Loss = 0.5295\n",
      "Training complete.\n"
     ]
    }
   ],
   "source": [
    "\n",
    "# Train Vanilla RNN Model\n",
    "train_model(rnn_model, train_data_loader, epochs=10, lr=0.001)\n"
   ]
  },
  {
   "cell_type": "code",
   "execution_count": 102,
   "metadata": {},
   "outputs": [
    {
     "name": "stdout",
     "output_type": "stream",
     "text": [
      "Accuracy: 0.7920, Macro F1 Score: 0.7940\n"
     ]
    },
    {
     "data": {
      "image/png": "[encoded data removed]",
      "text/plain": [
       "<Figure size 1000x700 with 2 Axes>"
      ]
     },
     "metadata": {},
     "output_type": "display_data"
    }
   ],
   "source": [
    "lstm_predictions = do_prediction(lstm_model, test_data_loader, \"LSTM\")\n",
    "do_saving(df= df_test, predictions = lstm_predictions, name=\"lstm_test.csv\")"
   ]
  },
  {
   "cell_type": "code",
   "execution_count": 103,
   "metadata": {},
   "outputs": [
    {
     "name": "stdout",
     "output_type": "stream",
     "text": [
      "Accuracy: 0.8080, Macro F1 Score: 0.8072\n"
     ]
    },
    {
     "data": {
      "image/png": "[encoded data removed]",
      "text/plain": [
       "<Figure size 1000x700 with 2 Axes>"
      ]
     },
     "metadata": {},
     "output_type": "display_data"
    }
   ],
   "source": [
    "rnn_predictions = do_prediction(rnn_model, test_data_loader, \"RNN\")\n",
    "do_saving(df= df_test,predictions = rnn_predictions, name=\"rnn__test.csv\")"
   ]
  }
 ],
 "metadata": {
  "kernelspec": {
   "display_name": "Python 3",
   "language": "python",
   "name": "python3"
  },
  "language_info": {
   "codemirror_mode": {
    "name": "ipython",
    "version": 3
   },
   "file_extension": ".py",
   "mimetype": "text/x-python",
   "name": "python",
   "nbconvert_exporter": "python",
   "pygments_lexer": "ipython3",
   "version": "3.11.8"
  }
 },
 "nbformat": 4,
 "nbformat_minor": 2
}
